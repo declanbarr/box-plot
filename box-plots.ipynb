{
 "cells": [
  {
   "cell_type": "markdown",
   "metadata": {},
   "source": [
    "# Box Plots"
   ]
  },
  {
   "cell_type": "markdown",
   "metadata": {},
   "source": [
    "## History of Box Plots\n",
    "\n",
    "https://upload.wikimedia.org/wikipedia/en/thumb/e/e9/John_Tukey.jpg/220px-John_Tukey.jpg\n",
    "\n",
    "\n",
    "\n",
    "The box plot was created in 1970 by John Tukey however it didn't become widely known until after his book \"Exploratory Data Analysis\", 1977, was published. (Reference - http://vita.had.co.nz/papers/boxplots.pdf) \n",
    "\n",
    "Tukey was also reponsible for coining the term \"Bit\" which is an abbreviation of \"binary digit\", while working as a researcher at AT&Ts Bell Laboratories (Reference - https://www.nytimes.com/2000/07/28/us/john-tukey-85-statistician-coined-the-word-software.html).\n",
    "\n",
    "Tukey along with James Cooley, developed the fast fourier transform, an algorithm that can allow astronomers to quickly determine the spectrum of light that is emitted from a star.(https://www.theguardian.com/news/2000/aug/16/guardianobituaries1)\n",
    "\n",
    "The Tukey-Lambda distribution was also developed by Tukey. This can be used to approximate a number of common distributions, such as uniform, U-shaped, logistic or normal distributions.(Ref - https://www.itl.nist.gov/div898/handbook/eda/section3/eda366f.htm)\n",
    "\n",
    " \n",
    "\n",
    "The boxplot is similar to the range plot, which was developed in 1952 by Spear ( Ref - https://books.google.ie/books?id=1JDMBQAAQBAJ&pg=PA68&lpg=PA68&dq=tukey+range+bar+1952&source=bl&ots=5IAypNvst7&sig=sU2EFl-JbX_6rElSKCn7zhLrsvk&hl=en&sa=X&ved=2ahUKEwjEo8v015zfAhVjrHEKHRXjBFIQ6AEwEHoECAYQAQ#v=onepage&q=tukey%20range%20bar%201952&f=false) The difference between the range plot and the box plot however is that outliers can be plotted on a boxplot. Tukey's contribution was to propose that these outliers lie a set distance beyond the upper and lower fences. (https://books.google.ie/books?id=1JDMBQAAQBAJ&pg=PA68&lpg=PA68&dq=tukey+range+bar+1952&source=bl&ots=5IAypNvst7&sig=sU2EFl-JbX_6rElSKCn7zhLrsvk&hl=en&sa=X&ved=2ahUKEwjEo8v015zfAhVjrHEKHRXjBFIQ6AEwEHoECAYQAQ#v=onepage&q=tukey%20range%20bar%201952&f=false)\n",
    "\n",
    "Boxplots are one of the most frequently used statistical graphics (Ref - http://vita.had.co.nz/papers/boxplots.pdf). Many different variations of boxplots have been created since Tukey's original. Two of the most common variations of box plots are the notched box plot and the varibale-width box plot (Ref - https://datavizcatalogue.com/methods/box_plot.html). The notched box plot \n",
    "\n",
    "Other more complex plots have also been designed, such as vase plots, violin plots and bean plots ( ref - http://vita.had.co.nz/papers/boxplots.pdf#cite.frigge%3A1989). \n",
    "\n"
   ]
  },
  {
   "cell_type": "markdown",
   "metadata": {},
   "source": [
    "## Relevant Terminology\n",
    "\n",
    "<img src=\"https://raw.githubusercontent.com/declanbarr/box-plot/master/Boxplot.png\" alt=\"Box Plot\" width=\"400\"/>\n",
    "\n",
    "(Ref - https://en.wikipedia.org/wiki/File:Boxplot_vs_PDF.svg)\n",
    "\n",
    "The **box plot** is a method of displaying the **five number summary**: **minimum**, **first quartile**, **second quartile (or median)**, **third quartile** and the **maximum**. (Ref - http://www.physics.csbsju.edu/stats/box2.html) **Quartiles** split a data set into three points - 1Q, 2Q and 3Q, to create four groups in the data set. (ref - https://www.investopedia.com/terms/q/quartile.asp). The median or 2Q value is the middle or central value (or the mean of the two middle values if it is an even number). The first and second quartiles are sometimes refered to the lower and upper **hinges**, respectively (Ref - http://vita.had.co.nz/papers/boxplots.pdf).\n",
    "\n",
    "Box plots are composed of **boxes** and **whiskers**. The boxes represent the **interquartile range (IQR)**, which is the range between the first and third quartile. The IQR gives an indication of the spread of the values (ref http://www-ist.massey.ac.nz/dstirlin/CAST/CAST/HboxPlot/boxPlot3.html). The **centre line** represents the median. The whiskers can represent the **maximum** and **minimum** values unless **Outliers** are present in which case these can be beyond the whiskers. (Ref- http://esjeevanand.uccollege.edu.in/wp-content/uploads/sites/114/2015/05/Box-Plots.pdf) If outliers are present then the whiskers are 1.5 times the IQR from the box. (Ref - http://esjeevanand.uccollege.edu.in/wp-content/uploads/sites/114/2015/05/Box-Plots.pdf). These extremes are referred to as the **fences** (Ref - http://vita.had.co.nz/papers/boxplots.pdf)\n",
    "\n",
    "Boxplots can represent the **skewness** of a data set. Skewness is when the distribution is not symmetrical. This can occur when the **mean** (sum of the values divided by the number of values) is not the same as the median. (Ref - https://www.siyavula.com/read/maths/grade-11/statistics/11-statistics-05) If the mean is lower than the median then the distribution is **negatively skewed**, and if the mean is higher than the median the the distribution is **positively skewed**. (Ref - https://www.siyavula.com/read/maths/grade-11/statistics/11-statistics-05) Outliers can have a significant effect on the mean with little effect on the median (Ref - http://www.statisticslectures.com/topics/outliereffects/) This can lead to the skewing of a distribution.\n",
    "\n",
    "The **range** of data set can also be determined from a box plot. The range is equal to the maximum value minus the minimum value, including any outliers (ref - https://stattrek.com/statistics/charts/boxplot.aspx)"
   ]
  },
  {
   "cell_type": "markdown",
   "metadata": {},
   "source": [
    "## Situations in Which Box Plots Are Used\n",
    "\n",
    "Box plots are useful for displaying the shape, spread and centre of a distribution (Ref http://www-ist.massey.ac.nz/dstirlin/CAST/CAST/HboxPlot/boxPlot3.html). The shape of a distribution can tell you how dense the distribution is as well as wether it is symetrical or skewed. http://www-ist.massey.ac.nz/dstirlin/CAST/CAST/HboxPlot/boxPlot3.html. A distribution that has a higher denisty will have a box plot where the sections are closer together compared to one that is not http://www-ist.massey.ac.nz/dstirlin/CAST/CAST/HboxPlot/boxPlot3.html. For a box plot that is positively skewed, the median will be further away from the upper quartile compared to the lower and the reverse will be true for a negatively skewed box plot (Ref -- https://www.listendata.com/2014/08/how-to-read-box-plot.html). A box plot can show two different measures of spread: the interquartile range and the range (ref https://stattrek.com/statistics/charts/boxplot.aspx). \n",
    "\n",
    "\n",
    "\n",
    "\n",
    "Boxplots are also useful for showing if there are any outliers in the distribution (Ref - https://www150.statcan.gc.ca/n1/edu/power-pouvoir/ch12/5214889-eng.htm). \n",
    "\n",
    "Comparing different data sets is another example of where box plots can be useful as these allow you to quickly compare the median, spread and range for each data set. (Ref - https://www150.statcan.gc.ca/n1/edu/power-pouvoir/ch12/5214889-eng.htm). \n",
    "\n",
    "\n"
   ]
  },
  {
   "cell_type": "markdown",
   "metadata": {},
   "source": [
    "## The Use of Box Plots"
   ]
  },
  {
   "cell_type": "code",
   "execution_count": 1,
   "metadata": {},
   "outputs": [],
   "source": [
    "import numpy as np\n",
    "import seaborn as sns\n",
    "import matplotlib.pyplot as plt"
   ]
  },
  {
   "cell_type": "markdown",
   "metadata": {},
   "source": [
    "Plotting a box plot of a normal distribution will create outliers (Give reference and explanation of why this is)\n",
    "For example:"
   ]
  },
  {
   "cell_type": "code",
   "execution_count": 2,
   "metadata": {},
   "outputs": [
    {
     "data": {
      "image/png": "[encoded data removed]",
      "text/plain": [
       "<matplotlib.figure.Figure at 0x253dd231048>"
      ]
     },
     "metadata": {
      "needs_background": "light"
     },
     "output_type": "display_data"
    }
   ],
   "source": [
    "normalDist = np.random.normal(100, 15, 1000)\n",
    "\n",
    "sns.boxplot(data = normalDist)\n",
    "plt.show()"
   ]
  },
  {
   "cell_type": "code",
   "execution_count": 3,
   "metadata": {},
   "outputs": [
    {
     "data": {
      "image/png": "[encoded data removed]",
      "text/plain": [
       "<matplotlib.figure.Figure at 0x253dd24c278>"
      ]
     },
     "metadata": {
      "needs_background": "light"
     },
     "output_type": "display_data"
    }
   ],
   "source": [
    "uniformDist = np.random.uniform(0, 100, 1000)\n",
    "\n",
    "sns.boxplot(data= uniformDist)\n",
    "plt.show()"
   ]
  },
  {
   "cell_type": "code",
   "execution_count": 4,
   "metadata": {},
   "outputs": [
    {
     "data": {
      "text/plain": [
       "<matplotlib.axes._subplots.AxesSubplot at 0x253dd24c6a0>"
      ]
     },
     "execution_count": 4,
     "metadata": {},
     "output_type": "execute_result"
    },
    {
     "data": {
      "image/png": "[encoded data removed]",
      "text/plain": [
       "<matplotlib.figure.Figure at 0x253dd37ff98>"
      ]
     },
     "metadata": {
      "needs_background": "light"
     },
     "output_type": "display_data"
    }
   ],
   "source": [
    "from scipy.stats import skewnorm\n",
    "positiveSkew = skewnorm.rvs(50, loc=100, scale=15, size=1000)\n",
    "\n",
    "sns.boxplot(data = positiveSkew)"
   ]
  },
  {
   "cell_type": "code",
   "execution_count": 5,
   "metadata": {},
   "outputs": [
    {
     "data": {
      "text/plain": [
       "<matplotlib.axes._subplots.AxesSubplot at 0x253de4cc588>"
      ]
     },
     "execution_count": 5,
     "metadata": {},
     "output_type": "execute_result"
    },
    {
     "data": {
      "image/png": "[encoded data removed]",
      "text/plain": [
       "<matplotlib.figure.Figure at 0x253dd3a5518>"
      ]
     },
     "metadata": {
      "needs_background": "light"
     },
     "output_type": "display_data"
    }
   ],
   "source": [
    "from scipy.stats import skewnorm\n",
    "negativeSkew = skewnorm.rvs(-50, loc=100, scale=15, size=1000)\n",
    "\n",
    "sns.boxplot(data = negativeSkew)"
   ]
  },
  {
   "cell_type": "markdown",
   "metadata": {},
   "source": [
    "Boxplots can have the same quartile, median, min or max values. For example, the following has the same min, first quartile and median value (10):"
   ]
  },
  {
   "cell_type": "code",
   "execution_count": 13,
   "metadata": {},
   "outputs": [
    {
     "data": {
      "text/plain": [
       "<matplotlib.axes._subplots.AxesSubplot at 0x253dd2a5cf8>"
      ]
     },
     "execution_count": 13,
     "metadata": {},
     "output_type": "execute_result"
    },
    {
     "data": {
      "image/png": "[encoded data removed]",
      "text/plain": [
       "<matplotlib.figure.Figure at 0x253de8f7cf8>"
      ]
     },
     "metadata": {
      "needs_background": "light"
     },
     "output_type": "display_data"
    }
   ],
   "source": [
    "array = [10, 10, 10, 10, 10, 12, 13, 14]\n",
    "\n",
    "sns.boxplot(data = array)"
   ]
  },
  {
   "cell_type": "code",
   "execution_count": 23,
   "metadata": {},
   "outputs": [
    {
     "data": {
      "text/plain": [
       "<matplotlib.axes._subplots.AxesSubplot at 0x253dec98c18>"
      ]
     },
     "execution_count": 23,
     "metadata": {},
     "output_type": "execute_result"
    },
    {
     "data": {
      "image/png": "[encoded data removed]",
      "text/plain": [
       "<matplotlib.figure.Figure at 0x253decbbb38>"
      ]
     },
     "metadata": {
      "needs_background": "light"
     },
     "output_type": "display_data"
    }
   ],
   "source": [
    "array1 = [10, 10, 10, 11, 11, 11]\n",
    "\n",
    "sns.boxplot(data = array1)"
   ]
  },
  {
   "cell_type": "code",
   "execution_count": 24,
   "metadata": {},
   "outputs": [
    {
     "data": {
      "text/plain": [
       "<matplotlib.axes._subplots.AxesSubplot at 0x253ded57550>"
      ]
     },
     "execution_count": 24,
     "metadata": {},
     "output_type": "execute_result"
    },
    {
     "data": {
      "image/png": "[encoded data removed]",
      "text/plain": [
       "<matplotlib.figure.Figure at 0x253decf9e10>"
      ]
     },
     "metadata": {
      "needs_background": "light"
     },
     "output_type": "display_data"
    }
   ],
   "source": [
    "array2 = [10, 10, 10, 11]\n",
    "\n",
    "sns.boxplot(data = array2)"
   ]
  },
  {
   "cell_type": "code",
   "execution_count": 31,
   "metadata": {},
   "outputs": [
    {
     "data": {
      "text/plain": [
       "<matplotlib.axes._subplots.AxesSubplot at 0x253dff8bef0>"
      ]
     },
     "execution_count": 31,
     "metadata": {},
     "output_type": "execute_result"
    },
    {
     "data": {
      "image/png": "[encoded data removed]",
      "text/plain": [
       "<matplotlib.figure.Figure at 0x253dff56588>"
      ]
     },
     "metadata": {
      "needs_background": "light"
     },
     "output_type": "display_data"
    }
   ],
   "source": [
    "array3 = [9.9, 10, 10, 10, 11, 12, 12, 12, 12.1]\n",
    "\n",
    "sns.boxplot(data = array3)"
   ]
  },
  {
   "cell_type": "code",
   "execution_count": 34,
   "metadata": {},
   "outputs": [
    {
     "data": {
      "text/plain": [
       "<matplotlib.axes._subplots.AxesSubplot at 0x253dffedcc0>"
      ]
     },
     "execution_count": 34,
     "metadata": {},
     "output_type": "execute_result"
    },
    {
     "data": {
      "image/png": "[encoded data removed]",
      "text/plain": [
       "<matplotlib.figure.Figure at 0x253e00086a0>"
      ]
     },
     "metadata": {
      "needs_background": "light"
     },
     "output_type": "display_data"
    }
   ],
   "source": [
    "array4 = [7, 10, 10, 10, 11, 12, 12, 12, 15]\n",
    "\n",
    "sns.boxplot(data = array4)"
   ]
  },
  {
   "cell_type": "markdown",
   "metadata": {},
   "source": [
    "The IQR for the above is 2. Any point that is above or belox the box by 1.5 times the IQR is an outlier, so in this case it would be any point that 2 * 1.5 = 3. We can change the last value 15 to 16 and we will see this plotted as an outlier:"
   ]
  },
  {
   "cell_type": "code",
   "execution_count": 35,
   "metadata": {},
   "outputs": [
    {
     "data": {
      "text/plain": [
       "<matplotlib.axes._subplots.AxesSubplot at 0x253e004ad30>"
      ]
     },
     "execution_count": 35,
     "metadata": {},
     "output_type": "execute_result"
    },
    {
     "data": {
      "image/png": "[encoded data removed]",
      "text/plain": [
       "<matplotlib.figure.Figure at 0x253e006b1d0>"
      ]
     },
     "metadata": {
      "needs_background": "light"
     },
     "output_type": "display_data"
    }
   ],
   "source": [
    "array4 = [7, 10, 10, 10, 11, 12, 12, 12, 16]\n",
    "\n",
    "sns.boxplot(data = array4)"
   ]
  },
  {
   "cell_type": "markdown",
   "metadata": {},
   "source": [
    "## Comparing Box Plots to Alternatives\n",
    "\n",
    "histogram\n",
    "\n",
    "density plot\n",
    "\n",
    "stem and leaf\n",
    "\n",
    "vase \n",
    "\n",
    "violin\n",
    "\n",
    "bean\n",
    "\n",
    "\n",
    "\n",
    "Limitation of boxplots - https://stats.stackexchange.com/questions/96553/how-to-assess-skewness-from-a-boxplot"
   ]
  },
  {
   "cell_type": "code",
   "execution_count": null,
   "metadata": {},
   "outputs": [],
   "source": []
  }
 ],
 "metadata": {
  "kernelspec": {
   "display_name": "Python 3",
   "language": "python",
   "name": "python3"
  },
  "language_info": {
   "codemirror_mode": {
    "name": "ipython",
    "version": 3
   },
   "file_extension": ".py",
   "mimetype": "text/x-python",
   "name": "python",
   "nbconvert_exporter": "python",
   "pygments_lexer": "ipython3",
   "version": "3.6.7"
  }
 },
 "nbformat": 4,
 "nbformat_minor": 2
}

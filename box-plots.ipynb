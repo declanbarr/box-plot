{
 "cells": [
  {
   "cell_type": "markdown",
   "metadata": {},
   "source": [
    "# Box Plots"
   ]
  },
  {
   "cell_type": "markdown",
   "metadata": {},
   "source": [
    "## History of Box Plots\n",
    "\n",
    "https://upload.wikimedia.org/wikipedia/en/thumb/e/e9/John_Tukey.jpg/220px-John_Tukey.jpg\n",
    "\n",
    "The box plot was created in 1970 by John Tukey however it didn't become widely known until after his book \"Exploratory Data Analysis\", 1977, was published. (Reference - http://vita.had.co.nz/papers/boxplots.pdf) \n",
    "\n",
    "Tukey was also reponsible for coining the term \"Bit\" which is an abbreviation of \"binary digit\", while working as a researcher at AT&Ts Bell Laboratories (Reference - https://www.nytimes.com/2000/07/28/us/john-tukey-85-statistician-coined-the-word-software.html).\n",
    "\n",
    "Tukey along with James Cooley, developed the fast fourier transform, an algorithm that can allow astronomers to quickly determine the spectrum of light that is emitted from a star.(https://www.theguardian.com/news/2000/aug/16/guardianobituaries1)"
   ]
  },
  {
   "cell_type": "markdown",
   "metadata": {},
   "source": [
    "## Relevant Terminology\n",
    "\n",
    "<img src=\"https://raw.githubusercontent.com/declanbarr/box-plot/master/Boxplot.png\" alt=\"Box Plot\" width=\"400\"/>\n",
    "\n",
    "(Ref - https://en.wikipedia.org/wiki/File:Boxplot_vs_PDF.svg)\n",
    "\n",
    "The **box plot** is a method of displaying the **five number summary**: **minimum**, **first quartile**, **second quartile (or median)**, **third quartile** and the **maximum**. (Ref - http://www.physics.csbsju.edu/stats/box2.html) **Quartiles** split a data set into three points - 1Q, 2Q and 3Q, to create four groups in the data set. (ref - https://www.investopedia.com/terms/q/quartile.asp)\n",
    "\n",
    "\n",
    "Box plots are composed of **boxes** and **whiskers**. The boxes represent the **interquartile range (IQR)**, which is the range between the first and third quartile. The whiskers can represent the **maximum** and **minimum** unless **Outliers** are present in which case these can be beyond the whiskers. (Ref- http://esjeevanand.uccollege.edu.in/wp-content/uploads/sites/114/2015/05/Box-Plots.pdf) If outliers are present then the whiskers are 1.5 times the IQR from the box. (Ref - http://esjeevanand.uccollege.edu.in/wp-content/uploads/sites/114/2015/05/Box-Plots.pdf). \n",
    "\n",
    "Boxplots can represent the **skewness** of a data set. Skewness is when the distribution is not symmetrical. This can occur when the **mean** (sum of the values divided by the number of values) is not the same as the median. (Ref - https://www.siyavula.com/read/maths/grade-11/statistics/11-statistics-05) If the mean is lower than the median then the distribution is **negatively skewed**, and if the mean is higher than the median the the distribution is **positively skewed**. (Ref - https://www.siyavula.com/read/maths/grade-11/statistics/11-statistics-05) Outliers can have a significant effect on the mean with little effect on the median (Ref - http://www.statisticslectures.com/topics/outliereffects/) This can lead to the skewing of a distribution.\n",
    "\n",
    "The **range** of data set can also be determined from a box plot. The range is equal to the maximum value minus the minimum value. "
   ]
  },
  {
   "cell_type": "markdown",
   "metadata": {},
   "source": [
    "## Situations in Which Box Plots Are Used\n",
    "\n",
    "Box plots are useful for displaying the skewness of a distribution (Ref - https://www150.statcan.gc.ca/n1/edu/power-pouvoir/ch12/5214889-eng.htm)\n",
    "\n"
   ]
  },
  {
   "cell_type": "markdown",
   "metadata": {},
   "source": [
    "## The Use of Box Plots"
   ]
  },
  {
   "cell_type": "code",
   "execution_count": 2,
   "metadata": {},
   "outputs": [],
   "source": [
    "import numpy as np\n",
    "import seaborn as sns\n",
    "import matplotlib.pyplot as plt"
   ]
  },
  {
   "cell_type": "markdown",
   "metadata": {},
   "source": [
    "Plotting a box plot of a normal distribution will create outliers (Give reference and explanation of why this is)\n",
    "For example:"
   ]
  },
  {
   "cell_type": "code",
   "execution_count": 17,
   "metadata": {},
   "outputs": [
    {
     "data": {
      "image/png": "[encoded data removed]",
      "text/plain": [
       "<matplotlib.figure.Figure at 0x212512ab828>"
      ]
     },
     "metadata": {
      "needs_background": "light"
     },
     "output_type": "display_data"
    }
   ],
   "source": [
    "normalDist = np.random.normal(100, 15, 1000)\n",
    "\n",
    "sns.boxplot(data = normalDist)\n",
    "plt.show()"
   ]
  },
  {
   "cell_type": "code",
   "execution_count": 3,
   "metadata": {},
   "outputs": [
    {
     "data": {
      "image/png": "[encoded data removed]",
      "text/plain": [
       "<matplotlib.figure.Figure at 0x19e941bb390>"
      ]
     },
     "metadata": {
      "needs_background": "light"
     },
     "output_type": "display_data"
    }
   ],
   "source": [
    "uniformDist = np.random.uniform(0, 100, 1000)\n",
    "\n",
    "sns.boxplot(data= uniformDist)\n",
    "plt.show()"
   ]
  },
  {
   "cell_type": "code",
   "execution_count": 4,
   "metadata": {},
   "outputs": [
    {
     "data": {
      "text/plain": [
       "<matplotlib.axes._subplots.AxesSubplot at 0x19e9542a780>"
      ]
     },
     "execution_count": 4,
     "metadata": {},
     "output_type": "execute_result"
    },
    {
     "data": {
      "image/png": "[encoded data removed]",
      "text/plain": [
       "<matplotlib.figure.Figure at 0x19e941dfe48>"
      ]
     },
     "metadata": {
      "needs_background": "light"
     },
     "output_type": "display_data"
    }
   ],
   "source": [
    "from scipy.stats import skewnorm\n",
    "positiveSkew = skewnorm.rvs(50, loc=100, scale=15, size=1000)\n",
    "\n",
    "sns.boxplot(data = positiveSkew)"
   ]
  },
  {
   "cell_type": "code",
   "execution_count": 5,
   "metadata": {},
   "outputs": [
    {
     "data": {
      "text/plain": [
       "<matplotlib.axes._subplots.AxesSubplot at 0x19e9425c208>"
      ]
     },
     "execution_count": 5,
     "metadata": {},
     "output_type": "execute_result"
    },
    {
     "data": {
      "image/png": "[encoded data removed]",
      "text/plain": [
       "<matplotlib.figure.Figure at 0x19e941ff6a0>"
      ]
     },
     "metadata": {
      "needs_background": "light"
     },
     "output_type": "display_data"
    }
   ],
   "source": [
    "from scipy.stats import skewnorm\n",
    "negativeSkew = skewnorm.rvs(-50, loc=100, scale=15, size=1000)\n",
    "\n",
    "sns.boxplot(data = negativeSkew)"
   ]
  },
  {
   "cell_type": "markdown",
   "metadata": {},
   "source": [
    "## Comparing Box Plots to Alternatives\n",
    "\n",
    "Limitation of boxplots - https://stats.stackexchange.com/questions/96553/how-to-assess-skewness-from-a-boxplot"
   ]
  },
  {
   "cell_type": "code",
   "execution_count": null,
   "metadata": {},
   "outputs": [],
   "source": []
  }
 ],
 "metadata": {
  "kernelspec": {
   "display_name": "Python 3",
   "language": "python",
   "name": "python3"
  },
  "language_info": {
   "codemirror_mode": {
    "name": "ipython",
    "version": 3
   },
   "file_extension": ".py",
   "mimetype": "text/x-python",
   "name": "python",
   "nbconvert_exporter": "python",
   "pygments_lexer": "ipython3",
   "version": "3.6.7"
  }
 },
 "nbformat": 4,
 "nbformat_minor": 2
}

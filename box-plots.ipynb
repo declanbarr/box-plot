{
 "cells": [
  {
   "cell_type": "markdown",
   "metadata": {},
   "source": [
    "# Box Plots"
   ]
  },
  {
   "cell_type": "markdown",
   "metadata": {},
   "source": [
    "## History of Box Plots\n",
    "\n",
    "https://upload.wikimedia.org/wikipedia/en/thumb/e/e9/John_Tukey.jpg/220px-John_Tukey.jpg\n",
    "\n",
    "The box plot was created in 1970 by John Tukey however it didn't become widely known until after his book \"Exploratory Data Analysis\", 1977, was published. (Reference - http://vita.had.co.nz/papers/boxplots.pdf) \n",
    "\n",
    "Tukey was also reponsible for coining the term \"Bit\" which is an abbreviation of \"binary digit\", while working as a researcher at AT&Ts Bell Laboratories (Reference - https://www.nytimes.com/2000/07/28/us/john-tukey-85-statistician-coined-the-word-software.html).\n",
    "\n",
    "Tukey along with James Cooley, developed the fast fourier transform, an algorithm that can allow astronomers to quickly determine the spectrum of light that is emitted from a star.(https://www.theguardian.com/news/2000/aug/16/guardianobituaries1)"
   ]
  },
  {
   "cell_type": "markdown",
   "metadata": {},
   "source": [
    "## Situations in Which Box Plots Are Used"
   ]
  },
  {
   "cell_type": "markdown",
   "metadata": {},
   "source": [
    "## Relevant Terminology"
   ]
  },
  {
   "cell_type": "markdown",
   "metadata": {},
   "source": [
    "## The Use of Box Plots"
   ]
  },
  {
   "cell_type": "markdown",
   "metadata": {},
   "source": [
    "## Comparing Box Plots to Alternatives"
   ]
  },
  {
   "cell_type": "code",
   "execution_count": null,
   "metadata": {},
   "outputs": [],
   "source": []
  }
 ],
 "metadata": {
  "kernelspec": {
   "display_name": "Python 3",
   "language": "python",
   "name": "python3"
  },
  "language_info": {
   "codemirror_mode": {
    "name": "ipython",
    "version": 3
   },
   "file_extension": ".py",
   "mimetype": "text/x-python",
   "name": "python",
   "nbconvert_exporter": "python",
   "pygments_lexer": "ipython3",
   "version": "3.6.7"
  }
 },
 "nbformat": 4,
 "nbformat_minor": 2
}

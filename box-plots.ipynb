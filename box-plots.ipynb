{
 "cells": [
  {
   "cell_type": "markdown",
   "metadata": {},
   "source": [
    "# Box Plots"
   ]
  },
  {
   "cell_type": "markdown",
   "metadata": {},
   "source": [
    "## History of Box Plots\n",
    "\n",
    "https://upload.wikimedia.org/wikipedia/en/thumb/e/e9/John_Tukey.jpg/220px-John_Tukey.jpg\n",
    "\n",
    "\n",
    "\n",
    "The box plot was created in 1970 by John Tukey however it didn't become widely known until after his book \"Exploratory Data Analysis\", 1977, was published. (Reference - http://vita.had.co.nz/papers/boxplots.pdf) \n",
    "\n",
    "Tukey was also reponsible for coining the term \"Bit\" which is an abbreviation of \"binary digit\", while working as a researcher at AT&Ts Bell Laboratories (Reference - https://www.nytimes.com/2000/07/28/us/john-tukey-85-statistician-coined-the-word-software.html).\n",
    "\n",
    "Tukey along with James Cooley, developed the fast fourier transform, an algorithm that can allow astronomers to quickly determine the spectrum of light that is emitted from a star.(https://www.theguardian.com/news/2000/aug/16/guardianobituaries1)\n",
    "\n",
    "The Tukey-Lambda distribution was also developed by Tukey. This can be used to approximate a number of common distributions, such as uniform, U-shaped, logistic or normal distributions.(Ref - https://www.itl.nist.gov/div898/handbook/eda/section3/eda366f.htm)\n",
    "\n",
    " \n",
    "\n",
    "The boxplot is similar to the range plot, which was developed in 1952 by Spear ( Ref - https://books.google.ie/books?id=1JDMBQAAQBAJ&pg=PA68&lpg=PA68&dq=tukey+range+bar+1952&source=bl&ots=5IAypNvst7&sig=sU2EFl-JbX_6rElSKCn7zhLrsvk&hl=en&sa=X&ved=2ahUKEwjEo8v015zfAhVjrHEKHRXjBFIQ6AEwEHoECAYQAQ#v=onepage&q=tukey%20range%20bar%201952&f=false) The difference between the range plot and the box plot however is that outliers can be plotted on a boxplot. Tukey's contribution was to propose that these outliers lie a set distance beyond the upper and lower fences. (https://books.google.ie/books?id=1JDMBQAAQBAJ&pg=PA68&lpg=PA68&dq=tukey+range+bar+1952&source=bl&ots=5IAypNvst7&sig=sU2EFl-JbX_6rElSKCn7zhLrsvk&hl=en&sa=X&ved=2ahUKEwjEo8v015zfAhVjrHEKHRXjBFIQ6AEwEHoECAYQAQ#v=onepage&q=tukey%20range%20bar%201952&f=false)\n",
    "\n",
    "Boxplots are one of the most frequently used statistical graphics (Ref - http://vita.had.co.nz/papers/boxplots.pdf). Many different variations of boxplots have been created since Tukey's original. Two of the most common variations of box plots are the notched box plot and the varibale-width box plot (Ref - https://datavizcatalogue.com/methods/box_plot.html). The notched box plot \n",
    "\n",
    "Other more complex plots have also been designed, such as vase plots, violin plots and bean plots ( ref - http://vita.had.co.nz/papers/boxplots.pdf#cite.frigge%3A1989). \n",
    "\n"
   ]
  },
  {
   "cell_type": "markdown",
   "metadata": {},
   "source": [
    "## Relevant Terminology\n",
    "\n",
    "<img src=\"https://raw.githubusercontent.com/declanbarr/box-plot/master/Boxplot.png\" alt=\"Box Plot\" width=\"400\"/>\n",
    "\n",
    "(Ref - https://en.wikipedia.org/wiki/File:Boxplot_vs_PDF.svg)\n",
    "\n",
    "The **box plot** is a method of displaying the **five number summary**: **minimum**, **first quartile**, **second quartile (or median)**, **third quartile** and the **maximum**. (Ref - http://www.physics.csbsju.edu/stats/box2.html) **Quartiles** split a data set into three points - 1Q, 2Q and 3Q, to create four groups in the data set. (ref - https://www.investopedia.com/terms/q/quartile.asp). The median or 2Q value is the middle or central value (or the mean of the two middle values if it is an even number). The first and second quartiles are sometimes refered to the lower and upper **hinges**, respectively (Ref - http://vita.had.co.nz/papers/boxplots.pdf).\n",
    "\n",
    "Box plots are composed of **boxes** and **whiskers**. The boxes represent the **interquartile range (IQR)**, which is the range between the first and third quartile. The IQR gives an indication of the spread of the values (ref http://www-ist.massey.ac.nz/dstirlin/CAST/CAST/HboxPlot/boxPlot3.html). The **centre line** represents the median. The whiskers can represent the **maximum** and **minimum** values unless **Outliers** are present in which case these can be beyond the whiskers. (Ref- http://esjeevanand.uccollege.edu.in/wp-content/uploads/sites/114/2015/05/Box-Plots.pdf) If outliers are present then the whiskers are 1.5 times the IQR from the box. (Ref - http://esjeevanand.uccollege.edu.in/wp-content/uploads/sites/114/2015/05/Box-Plots.pdf). These extremes are referred to as the **fences** (Ref - http://vita.had.co.nz/papers/boxplots.pdf)\n",
    "\n",
    "Boxplots can represent the **skewness** of a data set. Skewness is when the distribution is not symmetrical. This can occur when the **mean** (sum of the values divided by the number of values) is not the same as the median. (Ref - https://www.siyavula.com/read/maths/grade-11/statistics/11-statistics-05) If the mean is lower than the median then the distribution is **negatively skewed**, and if the mean is higher than the median the the distribution is **positively skewed**. (Ref - https://www.siyavula.com/read/maths/grade-11/statistics/11-statistics-05) Outliers can have a significant effect on the mean with little effect on the median (Ref - http://www.statisticslectures.com/topics/outliereffects/) This can lead to the skewing of a distribution.\n",
    "\n",
    "The **range** of data set can also be determined from a box plot. The range is equal to the maximum value minus the minimum value, including any outliers (ref - https://stattrek.com/statistics/charts/boxplot.aspx)"
   ]
  },
  {
   "cell_type": "markdown",
   "metadata": {},
   "source": [
    "## Situations in Which Box Plots Are Used\n",
    "\n",
    "Box plots are useful for displaying the shape, spread and centre of a distribution (Ref http://www-ist.massey.ac.nz/dstirlin/CAST/CAST/HboxPlot/boxPlot3.html). The shape of a distribution can tell you how dense the distribution is as well as wether it is symetrical or skewed. http://www-ist.massey.ac.nz/dstirlin/CAST/CAST/HboxPlot/boxPlot3.html. A distribution that has a higher denisty will have a box plot where the sections are closer together compared to one that is not http://www-ist.massey.ac.nz/dstirlin/CAST/CAST/HboxPlot/boxPlot3.html. For a box plot that is positively skewed, the median will be further away from the upper quartile compared to the lower and the reverse will be true for a negatively skewed box plot (Ref -- https://www.listendata.com/2014/08/how-to-read-box-plot.html). A box plot can show two different measures of spread: the interquartile range and the range (ref https://stattrek.com/statistics/charts/boxplot.aspx). \n",
    "\n",
    "Boxplots are also useful for showing if there are any outliers in the distribution (Ref - https://www150.statcan.gc.ca/n1/edu/power-pouvoir/ch12/5214889-eng.htm). \n",
    "\n",
    "Comparing different data sets is another example of where box plots can be useful as these allow you to quickly compare the median, spread and range for each data set. (Ref - https://www150.statcan.gc.ca/n1/edu/power-pouvoir/ch12/5214889-eng.htm). \n",
    "\n",
    "One of the disadvantages is that they hide a lot of the detail of a distribution and are therefore best used in conjuction with a histogram (ref - http://www.netmba.com/statistics/plot/box/)"
   ]
  },
  {
   "cell_type": "markdown",
   "metadata": {},
   "source": [
    "## The Use of Box Plots"
   ]
  },
  {
   "cell_type": "code",
   "execution_count": 1,
   "metadata": {},
   "outputs": [],
   "source": [
    "# Importing libraries\n",
    "import numpy as np\n",
    "import pandas as pd\n",
    "import seaborn as sns\n",
    "import matplotlib.pyplot as plt\n",
    "from scipy.stats import skewnorm"
   ]
  },
  {
   "cell_type": "markdown",
   "metadata": {},
   "source": [
    "Plotting a box plot of a normal distribution will create outliers as the IQR for a normal distribution is equal to 1.35 times the standard deviation (Ref - http://www.physics.csbsju.edu/stats/box2.html). We can see these outliers. The IQR is small, and the whiskers are extending as far as they can. The IQR is relatively small compared to the range."
   ]
  },
  {
   "cell_type": "code",
   "execution_count": 2,
   "metadata": {},
   "outputs": [
    {
     "data": {
      "image/png": "[encoded data removed]",
      "text/plain": [
       "<matplotlib.figure.Figure at 0x19a6a078a90>"
      ]
     },
     "metadata": {
      "needs_background": "light"
     },
     "output_type": "display_data"
    }
   ],
   "source": [
    "# Creating a rondom normal distribution\n",
    "normalDist = np.random.normal(100, 15, 1000)\n",
    "\n",
    "# Ploting the distribution on a boxplot\n",
    "sns.boxplot(data = normalDist)\n",
    "plt.show()"
   ]
  },
  {
   "cell_type": "markdown",
   "metadata": {},
   "source": [
    "In contrast to the normal distribution we can see that for the uniform distribution there are no outliers and, as would be expected for a uniform distribution, the IQR is have the distance between the two fences."
   ]
  },
  {
   "cell_type": "code",
   "execution_count": 3,
   "metadata": {},
   "outputs": [
    {
     "data": {
      "image/png": "[encoded data removed]",
      "text/plain": [
       "<matplotlib.figure.Figure at 0x19a6a078630>"
      ]
     },
     "metadata": {
      "needs_background": "light"
     },
     "output_type": "display_data"
    }
   ],
   "source": [
    "# Creating a uniform distribution\n",
    "uniformDist = np.random.uniform(0, 100, 1000)\n",
    " \n",
    "# Ploting the distribution on a boxplot\n",
    "sns.boxplot(data= uniformDist)\n",
    "plt.show()"
   ]
  },
  {
   "cell_type": "markdown",
   "metadata": {},
   "source": [
    "With a skewed distribution we end up with an unsymmetrical box plot. The Q1 to Q2 distance is larger than the Q1 to lower fence distance as is the Q2 to Q3 vs the Q3 to upper fence distance. We also see a number of outliers above the upper fence but no outliers below the lower fence. These all suggest a skewed distribution."
   ]
  },
  {
   "cell_type": "code",
   "execution_count": 4,
   "metadata": {},
   "outputs": [
    {
     "data": {
      "text/plain": [
       "<matplotlib.axes._subplots.AxesSubplot at 0x19a6a135ef0>"
      ]
     },
     "execution_count": 4,
     "metadata": {},
     "output_type": "execute_result"
    },
    {
     "data": {
      "image/png": "[encoded data removed]",
      "text/plain": [
       "<matplotlib.figure.Figure at 0x19a6a15d3c8>"
      ]
     },
     "metadata": {
      "needs_background": "light"
     },
     "output_type": "display_data"
    }
   ],
   "source": [
    "# Creating a skewed normal distribution \n",
    "positiveSkew = skewnorm.rvs(50, loc=100, scale=15, size=1000)\n",
    " \n",
    "# Ploting the distribution on a boxplot\n",
    "sns.boxplot(data = positiveSkew)"
   ]
  },
  {
   "cell_type": "markdown",
   "metadata": {},
   "source": [
    "We can see the opposite with the negatively skewed distribution below."
   ]
  },
  {
   "cell_type": "code",
   "execution_count": 5,
   "metadata": {},
   "outputs": [
    {
     "data": {
      "text/plain": [
       "<matplotlib.axes._subplots.AxesSubplot at 0x19a6a0760f0>"
      ]
     },
     "execution_count": 5,
     "metadata": {},
     "output_type": "execute_result"
    },
    {
     "data": {
      "image/png": "[encoded data removed]",
      "text/plain": [
       "<matplotlib.figure.Figure at 0x19a6a17f860>"
      ]
     },
     "metadata": {
      "needs_background": "light"
     },
     "output_type": "display_data"
    }
   ],
   "source": [
    "# Creating a skewed normal distribution\n",
    "negativeSkew = skewnorm.rvs(-50, loc=100, scale=15, size=1000)\n",
    "\n",
    "# Ploting the distribution on a boxplot\n",
    "sns.boxplot(data = negativeSkew)"
   ]
  },
  {
   "cell_type": "markdown",
   "metadata": {},
   "source": [
    "Boxplots can have the same quartile, median, min or max values. For example, the following has the same min, first quartile and median value (10):"
   ]
  },
  {
   "cell_type": "code",
   "execution_count": 6,
   "metadata": {},
   "outputs": [
    {
     "data": {
      "text/plain": [
       "<matplotlib.axes._subplots.AxesSubplot at 0x19a6a3ee9b0>"
      ]
     },
     "execution_count": 6,
     "metadata": {},
     "output_type": "execute_result"
    },
    {
     "data": {
      "image/png": "[encoded data removed]",
      "text/plain": [
       "<matplotlib.figure.Figure at 0x19a6a320cf8>"
      ]
     },
     "metadata": {
      "needs_background": "light"
     },
     "output_type": "display_data"
    }
   ],
   "source": [
    "# Creating a 1-D array\n",
    "array = [10, 10, 10, 10, 10, 12, 13, 14]\n",
    "\n",
    "# Ploting the distribution on a boxplot\n",
    "sns.boxplot(data = array)"
   ]
  },
  {
   "cell_type": "markdown",
   "metadata": {},
   "source": [
    "Boxplots can also have no whiskers if the min and Q1 are the same as well as the Q3 and max being the same."
   ]
  },
  {
   "cell_type": "code",
   "execution_count": 7,
   "metadata": {},
   "outputs": [
    {
     "data": {
      "text/plain": [
       "<matplotlib.axes._subplots.AxesSubplot at 0x19a6a710b70>"
      ]
     },
     "execution_count": 7,
     "metadata": {},
     "output_type": "execute_result"
    },
    {
     "data": {
      "image/png": "[encoded data removed]",
      "text/plain": [
       "<matplotlib.figure.Figure at 0x19a6a3e6da0>"
      ]
     },
     "metadata": {
      "needs_background": "light"
     },
     "output_type": "display_data"
    }
   ],
   "source": [
    "# Creating a 1-D array\n",
    "array1 = [10, 10, 10, 11, 11, 11]\n",
    "\n",
    "# Ploting the distribution on a boxplot\n",
    "sns.boxplot(data = array1)"
   ]
  },
  {
   "cell_type": "markdown",
   "metadata": {},
   "source": [
    "Boxplots can also be composed of only a single box and outlier if the min, Q1, and Q2 are all the same (or if max, Q3, and Q2 are all the same)"
   ]
  },
  {
   "cell_type": "code",
   "execution_count": 8,
   "metadata": {},
   "outputs": [
    {
     "data": {
      "text/plain": [
       "<matplotlib.axes._subplots.AxesSubplot at 0x19a6a739518>"
      ]
     },
     "execution_count": 8,
     "metadata": {},
     "output_type": "execute_result"
    },
    {
     "data": {
      "image/png": "[encoded data removed]",
      "text/plain": [
       "<matplotlib.figure.Figure at 0x19a6a734c18>"
      ]
     },
     "metadata": {
      "needs_background": "light"
     },
     "output_type": "display_data"
    }
   ],
   "source": [
    "# Creating a 1-D array\n",
    "array2 = [10, 10, 10, 11]\n",
    "\n",
    "# Ploting the distribution on a boxplot\n",
    "sns.boxplot(data = array2)"
   ]
  },
  {
   "cell_type": "markdown",
   "metadata": {},
   "source": [
    "The next boxplot has an IQR of 2 so the maximum distance for the whiskers is2 * 1.5 = 3, which is the distance that the max and min are from their respective hinges."
   ]
  },
  {
   "cell_type": "code",
   "execution_count": 10,
   "metadata": {},
   "outputs": [
    {
     "data": {
      "text/plain": [
       "<matplotlib.axes._subplots.AxesSubplot at 0x19a6a414a90>"
      ]
     },
     "execution_count": 10,
     "metadata": {},
     "output_type": "execute_result"
    },
    {
     "data": {
      "image/png": "[encoded data removed]",
      "text/plain": [
       "<matplotlib.figure.Figure at 0x19a6a42b940>"
      ]
     },
     "metadata": {
      "needs_background": "light"
     },
     "output_type": "display_data"
    }
   ],
   "source": [
    "# Creating a 1-D array\n",
    "array4 = [7, 10, 10, 10, 11, 12, 12, 12, 15]\n",
    "\n",
    "# Ploting the distribution on a boxplot\n",
    "sns.boxplot(data = array4)"
   ]
  },
  {
   "cell_type": "markdown",
   "metadata": {},
   "source": [
    "We can change the last value 15 to 16 and we will see this plotted as an outlier:"
   ]
  },
  {
   "cell_type": "code",
   "execution_count": 11,
   "metadata": {},
   "outputs": [
    {
     "data": {
      "text/plain": [
       "<matplotlib.axes._subplots.AxesSubplot at 0x19a6a442eb8>"
      ]
     },
     "execution_count": 11,
     "metadata": {},
     "output_type": "execute_result"
    },
    {
     "data": {
      "image/png": "[encoded data removed]",
      "text/plain": [
       "<matplotlib.figure.Figure at 0x19a6a13e4e0>"
      ]
     },
     "metadata": {
      "needs_background": "light"
     },
     "output_type": "display_data"
    }
   ],
   "source": [
    "# Creating a 1-D array\n",
    "array4 = [7, 10, 10, 10, 11, 12, 12, 12, 16]\n",
    "\n",
    "# Ploting the distribution on a boxplot\n",
    "sns.boxplot(data = array4)"
   ]
  },
  {
   "cell_type": "markdown",
   "metadata": {},
   "source": [
    "## Comparing Box Plots to Alternatives\n",
    "\n",
    "We can compare boxplots to other plots to see how useful they are when looking at different kinds of distributions. We'll start by creating a data set with different distributions: uniform, normal, right-skewed and multimodal and then create a pandas DataFrame with each column containing a different distribution."
   ]
  },
  {
   "cell_type": "code",
   "execution_count": 12,
   "metadata": {},
   "outputs": [],
   "source": [
    "# Creating random uniform array\n",
    "uniformDist = np.random.uniform(0, 100, 1000)\n",
    "\n",
    "# Creating random normal array\n",
    "normalDist = np.random.normal(100, 15, 1000)\n",
    "\n",
    "# Creating a skewed normal distribution\n",
    "rightSkewDist = skewnorm.rvs(20, loc=100, scale=15, size=1000)\n",
    "\n",
    "# Creating random normal arrays for use in multimodal array\n",
    "normalDist2 = np.random.normal(100, 15, 500)\n",
    "normalDist3 = np.random.normal(200, 25, 500)\n",
    "\n",
    "# Creating a multimodal array by appending normal arrays\n",
    "multimodalDist = np.append(normalDist2, normalDist3)\n",
    "\n",
    "\n",
    "# Creating DataFrame from distribution arrays\n",
    "distdf = pd.DataFrame({\"Uniform\": uniformDist, \"Normal\": normalDist, \"RightSkewed\": rightSkewDist, \"Multimodal\": multimodalDist})"
   ]
  },
  {
   "cell_type": "markdown",
   "metadata": {},
   "source": [
    "Starting with boxplots we can see that the uniform distribution has similar distances between adjacent quartiles and extremes. The normal distribution has characteristically small IQR and outliers are plotted beyond the fences. The skewed distribution has a large Q3 to upper fence distance relative to the Q2 to Q3 and there is outliers lying beyond the upper fence. There is nothing about the last boxplot that would tell you that it is multimodal. I appears to be right skewed."
   ]
  },
  {
   "cell_type": "code",
   "execution_count": 13,
   "metadata": {},
   "outputs": [
    {
     "data": {
      "text/plain": [
       "<matplotlib.axes._subplots.AxesSubplot at 0x19a6a8ed8d0>"
      ]
     },
     "execution_count": 13,
     "metadata": {},
     "output_type": "execute_result"
    },
    {
     "data": {
      "image/png": "[encoded data removed]",
      "text/plain": [
       "<matplotlib.figure.Figure at 0x19a6a11e9b0>"
      ]
     },
     "metadata": {
      "needs_background": "light"
     },
     "output_type": "display_data"
    }
   ],
   "source": [
    "# Displaying boxplot for uniform distribution\n",
    "plt.subplot(221)\n",
    "sns.boxplot(uniformDist)\n",
    "\n",
    "# Displaying boxplot for normal distribution\n",
    "plt.subplot(222)\n",
    "sns.boxplot(normalDist)\n",
    "\n",
    "# Displaying boxplot for skewed normal distribution\n",
    "plt.subplot(223)\n",
    "sns.boxplot(rightSkewDist)\n",
    "\n",
    "# Displaying boxplot for multimodal distribution\n",
    "plt.subplot(224)\n",
    "sns.boxplot(multimodalDist)"
   ]
  },
  {
   "cell_type": "markdown",
   "metadata": {},
   "source": [
    "Histograms for the above distributions give a much clearer view of what kind of distribution they are. You can clearly see the two peaks in the multimodal distribution below. "
   ]
  },
  {
   "cell_type": "code",
   "execution_count": 15,
   "metadata": {},
   "outputs": [
    {
     "data": {
      "text/plain": [
       "(array([  45.,  241.,  191.,   31.,   40.,  105.,  174.,  118.,   47.,    8.]),\n",
       " array([  61.03165558,   82.42814089,  103.82462619,  125.2211115 ,\n",
       "         146.61759681,  168.01408212,  189.41056742,  210.80705273,\n",
       "         232.20353804,  253.60002335,  274.99650865]),\n",
       " <a list of 10 Patch objects>)"
      ]
     },
     "execution_count": 15,
     "metadata": {},
     "output_type": "execute_result"
    },
    {
     "data": {
      "image/png": "[encoded data removed]",
      "text/plain": [
       "<matplotlib.figure.Figure at 0x19a6a9bb8d0>"
      ]
     },
     "metadata": {
      "needs_background": "light"
     },
     "output_type": "display_data"
    }
   ],
   "source": [
    "# Displaying histogram for uniform distribution\n",
    "plt.subplot(221)\n",
    "plt.hist(uniformDist)\n",
    "\n",
    "# Displaying histogram for normal distribution\n",
    "plt.subplot(222)\n",
    "plt.hist(normalDist)\n",
    "\n",
    "# Displaying histogram for skewed normal distribution\n",
    "plt.subplot(223)\n",
    "plt.hist(rightSkewDist)\n",
    "\n",
    "# Displaying histogram for multimodal distribution\n",
    "plt.subplot(224)\n",
    "plt.hist(multimodalDist)"
   ]
  },
  {
   "cell_type": "markdown",
   "metadata": {},
   "source": [
    "The violin plot provides the same information as a boxplot (upper and lower extremes, Q1, Q2 and Q3) and also provide information about the shape of the distribution. However, it is much harder to read the values from a violin plot compared to a boxplot."
   ]
  },
  {
   "cell_type": "code",
   "execution_count": 16,
   "metadata": {},
   "outputs": [
    {
     "data": {
      "text/plain": [
       "<matplotlib.axes._subplots.AxesSubplot at 0x19a6ac8db38>"
      ]
     },
     "execution_count": 16,
     "metadata": {},
     "output_type": "execute_result"
    },
    {
     "data": {
      "image/png": "[encoded data removed]",
      "text/plain": [
       "<matplotlib.figure.Figure at 0x19a6ab516d8>"
      ]
     },
     "metadata": {
      "needs_background": "light"
     },
     "output_type": "display_data"
    }
   ],
   "source": [
    "# Displaying violin for uniform distribution\n",
    "plt.subplot(221)\n",
    "sns.violinplot(uniformDist)\n",
    "\n",
    "# Displaying violin for normal distribution\n",
    "plt.subplot(222)\n",
    "sns.violinplot(normalDist)\n",
    "\n",
    "# Displaying violin for skewed normal distribution\n",
    "plt.subplot(223)\n",
    "sns.violinplot(rightSkewDist)\n",
    "\n",
    "# Displaying violin for multimodal distribution\n",
    "plt.subplot(224)\n",
    "sns.violinplot(multimodalDist)"
   ]
  }
 ],
 "metadata": {
  "kernelspec": {
   "display_name": "Python 3",
   "language": "python",
   "name": "python3"
  },
  "language_info": {
   "codemirror_mode": {
    "name": "ipython",
    "version": 3
   },
   "file_extension": ".py",
   "mimetype": "text/x-python",
   "name": "python",
   "nbconvert_exporter": "python",
   "pygments_lexer": "ipython3",
   "version": "3.6.7"
  }
 },
 "nbformat": 4,
 "nbformat_minor": 2
}
